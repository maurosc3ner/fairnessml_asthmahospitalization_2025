{
 "cells": [
  {
   "cell_type": "markdown",
   "id": "0fe5fae9-5869-4b7a-b199-5b5d0e32ed43",
   "metadata": {},
   "source": [
    "# Tabular data: Readmission 30 days\n",
    "\n",
    "Goal: check different approaches from classic to more recent DL in structured datasets.\n",
    "\n",
    "Methods:\n",
    "- Logistic regression\n",
    "- Random forest\n",
    "- XGBoost\n",
    "- TabPFN\n",
    "Dataset:\n",
    "- Titanic (Kaggle)"
   ]
  },
  {
   "cell_type": "code",
   "execution_count": 1,
   "id": "61bcd2de-054b-4783-80d2-a52198138bd3",
   "metadata": {},
   "outputs": [
    {
     "name": "stdout",
     "output_type": "stream",
     "text": [
      "Requirement already satisfied: tabpfn in /opt/miniconda3/envs/dlfairness/lib/python3.12/site-packages (0.1.10)\n",
      "Requirement already satisfied: numpy>=1.21.2 in /opt/miniconda3/envs/dlfairness/lib/python3.12/site-packages (from tabpfn) (1.26.4)\n",
      "Requirement already satisfied: pyyaml>=5.4.1 in /opt/miniconda3/envs/dlfairness/lib/python3.12/site-packages (from tabpfn) (6.0.2)\n",
      "Requirement already satisfied: requests>=2.23.0 in /opt/miniconda3/envs/dlfairness/lib/python3.12/site-packages (from tabpfn) (2.32.3)\n",
      "Requirement already satisfied: scikit-learn>=0.24.2 in /opt/miniconda3/envs/dlfairness/lib/python3.12/site-packages (from tabpfn) (1.5.1)\n",
      "Requirement already satisfied: torch>=1.9.0 in /opt/miniconda3/envs/dlfairness/lib/python3.12/site-packages (from tabpfn) (2.4.0)\n",
      "Requirement already satisfied: charset-normalizer<4,>=2 in /opt/miniconda3/envs/dlfairness/lib/python3.12/site-packages (from requests>=2.23.0->tabpfn) (3.3.2)\n",
      "Requirement already satisfied: idna<4,>=2.5 in /opt/miniconda3/envs/dlfairness/lib/python3.12/site-packages (from requests>=2.23.0->tabpfn) (3.7)\n",
      "Requirement already satisfied: urllib3<3,>=1.21.1 in /opt/miniconda3/envs/dlfairness/lib/python3.12/site-packages (from requests>=2.23.0->tabpfn) (2.2.2)\n",
      "Requirement already satisfied: certifi>=2017.4.17 in /opt/miniconda3/envs/dlfairness/lib/python3.12/site-packages (from requests>=2.23.0->tabpfn) (2024.7.4)\n",
      "Requirement already satisfied: scipy>=1.6.0 in /opt/miniconda3/envs/dlfairness/lib/python3.12/site-packages (from scikit-learn>=0.24.2->tabpfn) (1.11.4)\n",
      "Requirement already satisfied: joblib>=1.2.0 in /opt/miniconda3/envs/dlfairness/lib/python3.12/site-packages (from scikit-learn>=0.24.2->tabpfn) (1.4.2)\n",
      "Requirement already satisfied: threadpoolctl>=3.1.0 in /opt/miniconda3/envs/dlfairness/lib/python3.12/site-packages (from scikit-learn>=0.24.2->tabpfn) (3.5.0)\n",
      "Requirement already satisfied: filelock in /opt/miniconda3/envs/dlfairness/lib/python3.12/site-packages (from torch>=1.9.0->tabpfn) (3.15.4)\n",
      "Requirement already satisfied: typing-extensions>=4.8.0 in /opt/miniconda3/envs/dlfairness/lib/python3.12/site-packages (from torch>=1.9.0->tabpfn) (4.12.2)\n",
      "Requirement already satisfied: sympy in /opt/miniconda3/envs/dlfairness/lib/python3.12/site-packages (from torch>=1.9.0->tabpfn) (1.13.2)\n",
      "Requirement already satisfied: networkx in /opt/miniconda3/envs/dlfairness/lib/python3.12/site-packages (from torch>=1.9.0->tabpfn) (3.3)\n",
      "Requirement already satisfied: jinja2 in /opt/miniconda3/envs/dlfairness/lib/python3.12/site-packages (from torch>=1.9.0->tabpfn) (3.1.4)\n",
      "Requirement already satisfied: fsspec in /opt/miniconda3/envs/dlfairness/lib/python3.12/site-packages (from torch>=1.9.0->tabpfn) (2024.6.1)\n",
      "Requirement already satisfied: setuptools in /opt/miniconda3/envs/dlfairness/lib/python3.12/site-packages (from torch>=1.9.0->tabpfn) (72.1.0)\n",
      "Requirement already satisfied: MarkupSafe>=2.0 in /opt/miniconda3/envs/dlfairness/lib/python3.12/site-packages (from jinja2->torch>=1.9.0->tabpfn) (2.1.5)\n",
      "Requirement already satisfied: mpmath<1.4,>=1.1.0 in /opt/miniconda3/envs/dlfairness/lib/python3.12/site-packages (from sympy->torch>=1.9.0->tabpfn) (1.3.0)\n",
      "Requirement already satisfied: pygam in /opt/miniconda3/envs/dlfairness/lib/python3.12/site-packages (0.9.1)\n",
      "Requirement already satisfied: numpy>=1.25 in /opt/miniconda3/envs/dlfairness/lib/python3.12/site-packages (from pygam) (1.26.4)\n",
      "Requirement already satisfied: progressbar2<5.0.0,>=4.2.0 in /opt/miniconda3/envs/dlfairness/lib/python3.12/site-packages (from pygam) (4.4.2)\n",
      "Requirement already satisfied: scipy<1.12,>=1.11.1 in /opt/miniconda3/envs/dlfairness/lib/python3.12/site-packages (from pygam) (1.11.4)\n",
      "Requirement already satisfied: python-utils>=3.8.1 in /opt/miniconda3/envs/dlfairness/lib/python3.12/site-packages (from progressbar2<5.0.0,>=4.2.0->pygam) (3.8.2)\n",
      "Requirement already satisfied: typing-extensions>3.10.0.2 in /opt/miniconda3/envs/dlfairness/lib/python3.12/site-packages (from python-utils>=3.8.1->progressbar2<5.0.0,>=4.2.0->pygam) (4.12.2)\n",
      "Requirement already satisfied: ppscore in /opt/miniconda3/envs/dlfairness/lib/python3.12/site-packages (1.3.0)\n",
      "Requirement already satisfied: pandas<2.0.0,>=1.0.0 in /opt/miniconda3/envs/dlfairness/lib/python3.12/site-packages (from ppscore) (1.5.3)\n",
      "Requirement already satisfied: scikit-learn<2.0.0,>=0.20.2 in /opt/miniconda3/envs/dlfairness/lib/python3.12/site-packages (from ppscore) (1.5.1)\n",
      "Requirement already satisfied: python-dateutil>=2.8.1 in /opt/miniconda3/envs/dlfairness/lib/python3.12/site-packages (from pandas<2.0.0,>=1.0.0->ppscore) (2.9.0.post0)\n",
      "Requirement already satisfied: pytz>=2020.1 in /opt/miniconda3/envs/dlfairness/lib/python3.12/site-packages (from pandas<2.0.0,>=1.0.0->ppscore) (2024.1)\n",
      "Requirement already satisfied: numpy>=1.21.0 in /opt/miniconda3/envs/dlfairness/lib/python3.12/site-packages (from pandas<2.0.0,>=1.0.0->ppscore) (1.26.4)\n",
      "Requirement already satisfied: scipy>=1.6.0 in /opt/miniconda3/envs/dlfairness/lib/python3.12/site-packages (from scikit-learn<2.0.0,>=0.20.2->ppscore) (1.11.4)\n",
      "Requirement already satisfied: joblib>=1.2.0 in /opt/miniconda3/envs/dlfairness/lib/python3.12/site-packages (from scikit-learn<2.0.0,>=0.20.2->ppscore) (1.4.2)\n",
      "Requirement already satisfied: threadpoolctl>=3.1.0 in /opt/miniconda3/envs/dlfairness/lib/python3.12/site-packages (from scikit-learn<2.0.0,>=0.20.2->ppscore) (3.5.0)\n",
      "Requirement already satisfied: six>=1.5 in /opt/miniconda3/envs/dlfairness/lib/python3.12/site-packages (from python-dateutil>=2.8.1->pandas<2.0.0,>=1.0.0->ppscore) (1.16.0)\n"
     ]
    }
   ],
   "source": [
    "!pip install tabpfn\n",
    "!pip install pygam\n",
    "!pip install ppscore"
   ]
  },
  {
   "cell_type": "code",
   "execution_count": 2,
   "id": "ef1b3b2b-896f-4a66-a6ce-4021d32095cb",
   "metadata": {},
   "outputs": [],
   "source": [
    "import numpy as np \n",
    "import pandas as pd \n",
    "from sklearn.preprocessing import StandardScaler\n",
    "from  sklearn.preprocessing import PowerTransformer\n",
    "from  sklearn.preprocessing import KBinsDiscretizer\n",
    "from sklearn.model_selection import train_test_split\n",
    "from sklearn.ensemble import RandomForestClassifier\n",
    "from tabpfn import TabPFNClassifier\n",
    "from sklearn.metrics import confusion_matrix, ConfusionMatrixDisplay\n",
    "from sklearn.metrics import accuracy_score\n",
    "import time  \n",
    "import matplotlib.pyplot as plt\n",
    "import seaborn as sns\n",
    "import torch\n",
    "from pygam import LinearGAM, s, f\n",
    "import ppscore as pps\n",
    "import xgboost as xgb\n",
    "%matplotlib inline"
   ]
  },
  {
   "cell_type": "code",
   "execution_count": 3,
   "id": "80b65397-d581-448e-8040-0de19730dbe3",
   "metadata": {},
   "outputs": [
    {
     "name": "stdout",
     "output_type": "stream",
     "text": [
      "<class 'pandas.core.frame.DataFrame'>\n",
      "Int64Index: 82188 entries, 0 to 24659\n",
      "Data columns (total 37 columns):\n",
      " #   Column               Non-Null Count  Dtype  \n",
      "---  ------               --------------  -----  \n",
      " 0   id                   82188 non-null  int64  \n",
      " 1   race3                82188 non-null  int64  \n",
      " 2   s.age                82188 non-null  float64\n",
      " 3   sex_at_birthFemale   82188 non-null  int64  \n",
      " 4   sex_at_birthMale     82188 non-null  int64  \n",
      " 5   race3White_EA        82188 non-null  int64  \n",
      " 6   race3Asian           82188 non-null  int64  \n",
      " 7   race3Black_AA        82188 non-null  int64  \n",
      " 8   race3HL              82188 non-null  int64  \n",
      " 9   race3MENA            82188 non-null  int64  \n",
      " 10  hcType1Private       82188 non-null  int64  \n",
      " 11  hcType1Public        82188 non-null  int64  \n",
      " 12  weekendWeekday       82188 non-null  int64  \n",
      " 13  weekendWeekend       82188 non-null  int64  \n",
      " 14  AR.lonFALSE          82188 non-null  int64  \n",
      " 15  AR.lonTRUE           82188 non-null  int64  \n",
      " 16  CHD.lonFALSE         82188 non-null  int64  \n",
      " 17  CHD.lonTRUE          82188 non-null  int64  \n",
      " 18  CKD.lonFALSE         82188 non-null  int64  \n",
      " 19  CKD.lonTRUE          82188 non-null  int64  \n",
      " 20  COPD.lonFALSE        82188 non-null  int64  \n",
      " 21  COPD.lonTRUE         82188 non-null  int64  \n",
      " 22  Depression.lonFALSE  82188 non-null  int64  \n",
      " 23  Depression.lonTRUE   82188 non-null  int64  \n",
      " 24  Diab.lonFALSE        82188 non-null  int64  \n",
      " 25  Diab.lonTRUE         82188 non-null  int64  \n",
      " 26  FA.lonFALSE          82188 non-null  int64  \n",
      " 27  FA.lonTRUE           82188 non-null  int64  \n",
      " 28  GERD.lonFALSE        82188 non-null  int64  \n",
      " 29  GERD.lonTRUE         82188 non-null  int64  \n",
      " 30  HTA.lonFALSE         82188 non-null  int64  \n",
      " 31  HTA.lonTRUE          82188 non-null  int64  \n",
      " 32  OBST.lonFALSE        82188 non-null  int64  \n",
      " 33  OBST.lonTRUE         82188 non-null  int64  \n",
      " 34  APNEA.lonFALSE       82188 non-null  int64  \n",
      " 35  APNEA.lonTRUE        82188 non-null  int64  \n",
      " 36  readmission30dNum    82188 non-null  int64  \n",
      "dtypes: float64(1), int64(36)\n",
      "memory usage: 23.8 MB\n",
      "None\n"
     ]
    }
   ],
   "source": [
    "full = pd.read_csv('data/aou_dl/dmtrain.rb.iter1.csv', header = 0, dtype={'s.age': np.float64})\n",
    "holdout  = pd.read_csv('data/aou_dl/dmvalid.rb.iter1.csv' , header = 0, dtype={'s.age': np.float64})\n",
    "merged = pd.concat([full, holdout])\n",
    "\n",
    "print (merged.info())"
   ]
  },
  {
   "cell_type": "code",
   "execution_count": 4,
   "id": "4b349d39-4065-42a5-a64c-eecc855f8cbb",
   "metadata": {},
   "outputs": [
    {
     "name": "stdout",
     "output_type": "stream",
     "text": [
      "<class 'pandas.core.frame.DataFrame'>\n",
      "Int64Index: 82188 entries, 0 to 24659\n",
      "Data columns (total 37 columns):\n",
      " #   Column               Non-Null Count  Dtype  \n",
      "---  ------               --------------  -----  \n",
      " 0   id                   82188 non-null  int64  \n",
      " 1   race3                82188 non-null  int64  \n",
      " 2   s.age                82188 non-null  float64\n",
      " 3   sex_at_birthFemale   82188 non-null  int64  \n",
      " 4   sex_at_birthMale     82188 non-null  int64  \n",
      " 5   race3White_EA        82188 non-null  int64  \n",
      " 6   race3Asian           82188 non-null  int64  \n",
      " 7   race3Black_AA        82188 non-null  int64  \n",
      " 8   race3HL              82188 non-null  int64  \n",
      " 9   race3MENA            82188 non-null  int64  \n",
      " 10  hcType1Private       82188 non-null  int64  \n",
      " 11  hcType1Public        82188 non-null  int64  \n",
      " 12  weekendWeekday       82188 non-null  int64  \n",
      " 13  weekendWeekend       82188 non-null  int64  \n",
      " 14  AR.lonFALSE          82188 non-null  int64  \n",
      " 15  AR.lonTRUE           82188 non-null  int64  \n",
      " 16  CHD.lonFALSE         82188 non-null  int64  \n",
      " 17  CHD.lonTRUE          82188 non-null  int64  \n",
      " 18  CKD.lonFALSE         82188 non-null  int64  \n",
      " 19  CKD.lonTRUE          82188 non-null  int64  \n",
      " 20  COPD.lonFALSE        82188 non-null  int64  \n",
      " 21  COPD.lonTRUE         82188 non-null  int64  \n",
      " 22  Depression.lonFALSE  82188 non-null  int64  \n",
      " 23  Depression.lonTRUE   82188 non-null  int64  \n",
      " 24  Diab.lonFALSE        82188 non-null  int64  \n",
      " 25  Diab.lonTRUE         82188 non-null  int64  \n",
      " 26  FA.lonFALSE          82188 non-null  int64  \n",
      " 27  FA.lonTRUE           82188 non-null  int64  \n",
      " 28  GERD.lonFALSE        82188 non-null  int64  \n",
      " 29  GERD.lonTRUE         82188 non-null  int64  \n",
      " 30  HTA.lonFALSE         82188 non-null  int64  \n",
      " 31  HTA.lonTRUE          82188 non-null  int64  \n",
      " 32  OBST.lonFALSE        82188 non-null  int64  \n",
      " 33  OBST.lonTRUE         82188 non-null  int64  \n",
      " 34  APNEA.lonFALSE       82188 non-null  int64  \n",
      " 35  APNEA.lonTRUE        82188 non-null  int64  \n",
      " 36  readmission30dNum    82188 non-null  int64  \n",
      "dtypes: float64(1), int64(36)\n",
      "memory usage: 23.8 MB\n",
      "None\n",
      "        id  race3  s.age  sex_at_birthFemale  sex_at_birthMale  race3White_EA  \\\n",
      "0  5602914      1   34.6                   0                 1              1   \n",
      "1  2803675      1   58.2                   1                 0              1   \n",
      "2  1293980      1   55.4                   0                 1              1   \n",
      "3  1906177      1   24.4                   1                 0              1   \n",
      "4  2234870      1   29.8                   1                 0              1   \n",
      "\n",
      "   race3Asian  race3Black_AA  race3HL  race3MENA  ...  FA.lonTRUE  \\\n",
      "0           0              0        0          0  ...           0   \n",
      "1           0              0        0          0  ...           0   \n",
      "2           0              0        0          0  ...           0   \n",
      "3           0              0        0          0  ...           0   \n",
      "4           0              0        0          0  ...           0   \n",
      "\n",
      "   GERD.lonFALSE  GERD.lonTRUE  HTA.lonFALSE  HTA.lonTRUE  OBST.lonFALSE  \\\n",
      "0              0             1             0            1              1   \n",
      "1              0             1             0            1              0   \n",
      "2              0             1             0            1              0   \n",
      "3              1             0             1            0              1   \n",
      "4              1             0             0            1              0   \n",
      "\n",
      "   OBST.lonTRUE  APNEA.lonFALSE  APNEA.lonTRUE  readmission30dNum  \n",
      "0             0               1              0                  1  \n",
      "1             1               0              1                  1  \n",
      "2             1               0              1                  1  \n",
      "3             0               1              0                  1  \n",
      "4             1               1              0                  1  \n",
      "\n",
      "[5 rows x 37 columns]\n"
     ]
    }
   ],
   "source": [
    "print(merged.info())\n",
    "# survived is the label class.\n",
    "print(merged.head())"
   ]
  },
  {
   "cell_type": "code",
   "execution_count": 5,
   "id": "3fc9ec37-49e5-49ab-bb12-ab3b01e385ec",
   "metadata": {},
   "outputs": [
    {
     "data": {
      "text/plain": [
       "<Axes: xlabel='race3', ylabel='Count'>"
      ]
     },
     "execution_count": 5,
     "metadata": {},
     "output_type": "execute_result"
    },
    {
     "data": {
      "image/png": "[encoded data removed]",
      "text/plain": [
       "<Figure size 640x480 with 1 Axes>"
      ]
     },
     "metadata": {},
     "output_type": "display_data"
    }
   ],
   "source": [
    "sns.histplot(data = full, x = \"race3\")\n"
   ]
  },
  {
   "cell_type": "code",
   "execution_count": 6,
   "id": "9b068913-fc50-43b1-8197-7bce144c06be",
   "metadata": {},
   "outputs": [
    {
     "data": {
      "text/plain": [
       "Text(0.5, 1.0, 'Readmission rate by race')"
      ]
     },
     "execution_count": 6,
     "metadata": {},
     "output_type": "execute_result"
    },
    {
     "data": {
      "image/png": "[encoded data removed]",
      "text/plain": [
       "<Figure size 640x480 with 1 Axes>"
      ]
     },
     "metadata": {},
     "output_type": "display_data"
    }
   ],
   "source": [
    "sns.barplot(data = full, x = \"race3\", y = \"readmission30dNum\").set_title('Readmission rate by race')\n"
   ]
  },
  {
   "cell_type": "code",
   "execution_count": 7,
   "id": "9d9bcb00-a7fa-4f2a-b7d8-a92b44788a93",
   "metadata": {},
   "outputs": [
    {
     "name": "stdout",
     "output_type": "stream",
     "text": [
      "<class 'pandas.core.series.Series'>\n",
      "RangeIndex: 57528 entries, 0 to 57527\n",
      "Series name: readmission30dNum\n",
      "Non-Null Count  Dtype\n",
      "--------------  -----\n",
      "57528 non-null  int64\n",
      "dtypes: int64(1)\n",
      "memory usage: 449.6 KB\n",
      "None\n",
      "<class 'pandas.core.frame.DataFrame'>\n",
      "RangeIndex: 57528 entries, 0 to 57527\n",
      "Data columns (total 37 columns):\n",
      " #   Column               Non-Null Count  Dtype  \n",
      "---  ------               --------------  -----  \n",
      " 0   id                   57528 non-null  int64  \n",
      " 1   race3                57528 non-null  int64  \n",
      " 2   s.age                57528 non-null  float64\n",
      " 3   sex_at_birthFemale   57528 non-null  int64  \n",
      " 4   sex_at_birthMale     57528 non-null  int64  \n",
      " 5   race3White_EA        57528 non-null  int64  \n",
      " 6   race3Asian           57528 non-null  int64  \n",
      " 7   race3Black_AA        57528 non-null  int64  \n",
      " 8   race3HL              57528 non-null  int64  \n",
      " 9   race3MENA            57528 non-null  int64  \n",
      " 10  hcType1Private       57528 non-null  int64  \n",
      " 11  hcType1Public        57528 non-null  int64  \n",
      " 12  weekendWeekday       57528 non-null  int64  \n",
      " 13  weekendWeekend       57528 non-null  int64  \n",
      " 14  AR.lonFALSE          57528 non-null  int64  \n",
      " 15  AR.lonTRUE           57528 non-null  int64  \n",
      " 16  CHD.lonFALSE         57528 non-null  int64  \n",
      " 17  CHD.lonTRUE          57528 non-null  int64  \n",
      " 18  CKD.lonFALSE         57528 non-null  int64  \n",
      " 19  CKD.lonTRUE          57528 non-null  int64  \n",
      " 20  COPD.lonFALSE        57528 non-null  int64  \n",
      " 21  COPD.lonTRUE         57528 non-null  int64  \n",
      " 22  Depression.lonFALSE  57528 non-null  int64  \n",
      " 23  Depression.lonTRUE   57528 non-null  int64  \n",
      " 24  Diab.lonFALSE        57528 non-null  int64  \n",
      " 25  Diab.lonTRUE         57528 non-null  int64  \n",
      " 26  FA.lonFALSE          57528 non-null  int64  \n",
      " 27  FA.lonTRUE           57528 non-null  int64  \n",
      " 28  GERD.lonFALSE        57528 non-null  int64  \n",
      " 29  GERD.lonTRUE         57528 non-null  int64  \n",
      " 30  HTA.lonFALSE         57528 non-null  int64  \n",
      " 31  HTA.lonTRUE          57528 non-null  int64  \n",
      " 32  OBST.lonFALSE        57528 non-null  int64  \n",
      " 33  OBST.lonTRUE         57528 non-null  int64  \n",
      " 34  APNEA.lonFALSE       57528 non-null  int64  \n",
      " 35  APNEA.lonTRUE        57528 non-null  int64  \n",
      " 36  readmission30dNum    57528 non-null  int64  \n",
      "dtypes: float64(1), int64(36)\n",
      "memory usage: 16.2 MB\n",
      "None\n",
      "<class 'pandas.core.frame.DataFrame'>\n",
      "RangeIndex: 57528 entries, 0 to 57527\n",
      "Data columns (total 34 columns):\n",
      " #   Column               Non-Null Count  Dtype  \n",
      "---  ------               --------------  -----  \n",
      " 0   s.age                57528 non-null  float64\n",
      " 1   sex_at_birthFemale   57528 non-null  float64\n",
      " 2   sex_at_birthMale     57528 non-null  float64\n",
      " 3   race3White_EA        57528 non-null  float64\n",
      " 4   race3Asian           57528 non-null  float64\n",
      " 5   race3Black_AA        57528 non-null  float64\n",
      " 6   race3HL              57528 non-null  float64\n",
      " 7   race3MENA            57528 non-null  float64\n",
      " 8   hcType1Private       57528 non-null  float64\n",
      " 9   hcType1Public        57528 non-null  float64\n",
      " 10  weekendWeekday       57528 non-null  float64\n",
      " 11  weekendWeekend       57528 non-null  float64\n",
      " 12  AR.lonFALSE          57528 non-null  float64\n",
      " 13  AR.lonTRUE           57528 non-null  float64\n",
      " 14  CHD.lonFALSE         57528 non-null  float64\n",
      " 15  CHD.lonTRUE          57528 non-null  float64\n",
      " 16  CKD.lonFALSE         57528 non-null  float64\n",
      " 17  CKD.lonTRUE          57528 non-null  float64\n",
      " 18  COPD.lonFALSE        57528 non-null  float64\n",
      " 19  COPD.lonTRUE         57528 non-null  float64\n",
      " 20  Depression.lonFALSE  57528 non-null  float64\n",
      " 21  Depression.lonTRUE   57528 non-null  float64\n",
      " 22  Diab.lonFALSE        57528 non-null  float64\n",
      " 23  Diab.lonTRUE         57528 non-null  float64\n",
      " 24  FA.lonFALSE          57528 non-null  float64\n",
      " 25  FA.lonTRUE           57528 non-null  float64\n",
      " 26  GERD.lonFALSE        57528 non-null  float64\n",
      " 27  GERD.lonTRUE         57528 non-null  float64\n",
      " 28  HTA.lonFALSE         57528 non-null  float64\n",
      " 29  HTA.lonTRUE          57528 non-null  float64\n",
      " 30  OBST.lonFALSE        57528 non-null  float64\n",
      " 31  OBST.lonTRUE         57528 non-null  float64\n",
      " 32  APNEA.lonFALSE       57528 non-null  float64\n",
      " 33  APNEA.lonTRUE        57528 non-null  float64\n",
      "dtypes: float64(34)\n",
      "memory usage: 14.9 MB\n",
      "None\n",
      "      s.age  sex_at_birthFemale  sex_at_birthMale  race3White_EA  race3Asian  \\\n",
      "0 -0.872473           -1.842773          1.842773       1.293104   -0.080893   \n",
      "1  0.692073            0.542660         -0.542660       1.293104   -0.080893   \n",
      "2  0.506449           -1.842773          1.842773       1.293104   -0.080893   \n",
      "3 -1.548675            0.542660         -0.542660       1.293104   -0.080893   \n",
      "4 -1.190685            0.542660         -0.542660       1.293104   -0.080893   \n",
      "\n",
      "   race3Black_AA   race3HL  race3MENA  hcType1Private  hcType1Public  ...  \\\n",
      "0      -0.832015 -0.511313   -0.05428       -0.516556       0.516556  ...   \n",
      "1      -0.832015 -0.511313   -0.05428       -0.516556       0.516556  ...   \n",
      "2      -0.832015 -0.511313   -0.05428       -0.516556       0.516556  ...   \n",
      "3      -0.832015 -0.511313   -0.05428        1.935900      -1.935900  ...   \n",
      "4      -0.832015 -0.511313   -0.05428       -0.516556       0.516556  ...   \n",
      "\n",
      "   FA.lonFALSE  FA.lonTRUE  GERD.lonFALSE  GERD.lonTRUE  HTA.lonFALSE  \\\n",
      "0     0.175082   -0.175082      -0.909098      0.909098     -0.780497   \n",
      "1     0.175082   -0.175082      -0.909098      0.909098     -0.780497   \n",
      "2     0.175082   -0.175082      -0.909098      0.909098     -0.780497   \n",
      "3     0.175082   -0.175082       1.099991     -1.099991      1.281236   \n",
      "4     0.175082   -0.175082       1.099991     -1.099991     -0.780497   \n",
      "\n",
      "   HTA.lonTRUE  OBST.lonFALSE  OBST.lonTRUE  APNEA.lonFALSE  APNEA.lonTRUE  \n",
      "0     0.780497       0.909130     -0.909130        0.623990      -0.623990  \n",
      "1     0.780497      -1.099953      1.099953       -1.602589       1.602589  \n",
      "2     0.780497      -1.099953      1.099953       -1.602589       1.602589  \n",
      "3    -1.281236       0.909130     -0.909130        0.623990      -0.623990  \n",
      "4     0.780497      -1.099953      1.099953        0.623990      -0.623990  \n",
      "\n",
      "[5 rows x 34 columns]\n"
     ]
    }
   ],
   "source": [
    "y_train = full.readmission30dNum\n",
    "print(y_train.info())\n",
    "\n",
    "x_train = full.copy()\n",
    "print(x_train.info())\n",
    "\n",
    "x_train.drop(['id', 'race3', 'readmission30dNum'], axis=1, inplace=True)\n",
    "scaler = StandardScaler()\n",
    "x_train = pd.DataFrame(scaler.fit_transform(x_train), columns=x_train.columns)\n",
    "print(x_train.info())\n",
    "print(x_train.head())"
   ]
  },
  {
   "cell_type": "code",
   "execution_count": 8,
   "id": "cb7f14dd-4901-4410-bcd8-3760d71d3bb2",
   "metadata": {},
   "outputs": [
    {
     "name": "stdout",
     "output_type": "stream",
     "text": [
      "<class 'pandas.core.series.Series'>\n",
      "RangeIndex: 24660 entries, 0 to 24659\n",
      "Series name: readmission30dNum\n",
      "Non-Null Count  Dtype\n",
      "--------------  -----\n",
      "24660 non-null  int64\n",
      "dtypes: int64(1)\n",
      "memory usage: 192.8 KB\n",
      "None\n",
      "<class 'pandas.core.frame.DataFrame'>\n",
      "RangeIndex: 24660 entries, 0 to 24659\n",
      "Data columns (total 37 columns):\n",
      " #   Column               Non-Null Count  Dtype  \n",
      "---  ------               --------------  -----  \n",
      " 0   id                   24660 non-null  int64  \n",
      " 1   race3                24660 non-null  int64  \n",
      " 2   s.age                24660 non-null  float64\n",
      " 3   sex_at_birthFemale   24660 non-null  int64  \n",
      " 4   sex_at_birthMale     24660 non-null  int64  \n",
      " 5   race3White_EA        24660 non-null  int64  \n",
      " 6   race3Asian           24660 non-null  int64  \n",
      " 7   race3Black_AA        24660 non-null  int64  \n",
      " 8   race3HL              24660 non-null  int64  \n",
      " 9   race3MENA            24660 non-null  int64  \n",
      " 10  hcType1Private       24660 non-null  int64  \n",
      " 11  hcType1Public        24660 non-null  int64  \n",
      " 12  weekendWeekday       24660 non-null  int64  \n",
      " 13  weekendWeekend       24660 non-null  int64  \n",
      " 14  AR.lonFALSE          24660 non-null  int64  \n",
      " 15  AR.lonTRUE           24660 non-null  int64  \n",
      " 16  CHD.lonFALSE         24660 non-null  int64  \n",
      " 17  CHD.lonTRUE          24660 non-null  int64  \n",
      " 18  CKD.lonFALSE         24660 non-null  int64  \n",
      " 19  CKD.lonTRUE          24660 non-null  int64  \n",
      " 20  COPD.lonFALSE        24660 non-null  int64  \n",
      " 21  COPD.lonTRUE         24660 non-null  int64  \n",
      " 22  Depression.lonFALSE  24660 non-null  int64  \n",
      " 23  Depression.lonTRUE   24660 non-null  int64  \n",
      " 24  Diab.lonFALSE        24660 non-null  int64  \n",
      " 25  Diab.lonTRUE         24660 non-null  int64  \n",
      " 26  FA.lonFALSE          24660 non-null  int64  \n",
      " 27  FA.lonTRUE           24660 non-null  int64  \n",
      " 28  GERD.lonFALSE        24660 non-null  int64  \n",
      " 29  GERD.lonTRUE         24660 non-null  int64  \n",
      " 30  HTA.lonFALSE         24660 non-null  int64  \n",
      " 31  HTA.lonTRUE          24660 non-null  int64  \n",
      " 32  OBST.lonFALSE        24660 non-null  int64  \n",
      " 33  OBST.lonTRUE         24660 non-null  int64  \n",
      " 34  APNEA.lonFALSE       24660 non-null  int64  \n",
      " 35  APNEA.lonTRUE        24660 non-null  int64  \n",
      " 36  readmission30dNum    24660 non-null  int64  \n",
      "dtypes: float64(1), int64(36)\n",
      "memory usage: 7.0 MB\n",
      "None\n",
      "<class 'pandas.core.frame.DataFrame'>\n",
      "RangeIndex: 24660 entries, 0 to 24659\n",
      "Data columns (total 34 columns):\n",
      " #   Column               Non-Null Count  Dtype  \n",
      "---  ------               --------------  -----  \n",
      " 0   s.age                24660 non-null  float64\n",
      " 1   sex_at_birthFemale   24660 non-null  float64\n",
      " 2   sex_at_birthMale     24660 non-null  float64\n",
      " 3   race3White_EA        24660 non-null  float64\n",
      " 4   race3Asian           24660 non-null  float64\n",
      " 5   race3Black_AA        24660 non-null  float64\n",
      " 6   race3HL              24660 non-null  float64\n",
      " 7   race3MENA            24660 non-null  float64\n",
      " 8   hcType1Private       24660 non-null  float64\n",
      " 9   hcType1Public        24660 non-null  float64\n",
      " 10  weekendWeekday       24660 non-null  float64\n",
      " 11  weekendWeekend       24660 non-null  float64\n",
      " 12  AR.lonFALSE          24660 non-null  float64\n",
      " 13  AR.lonTRUE           24660 non-null  float64\n",
      " 14  CHD.lonFALSE         24660 non-null  float64\n",
      " 15  CHD.lonTRUE          24660 non-null  float64\n",
      " 16  CKD.lonFALSE         24660 non-null  float64\n",
      " 17  CKD.lonTRUE          24660 non-null  float64\n",
      " 18  COPD.lonFALSE        24660 non-null  float64\n",
      " 19  COPD.lonTRUE         24660 non-null  float64\n",
      " 20  Depression.lonFALSE  24660 non-null  float64\n",
      " 21  Depression.lonTRUE   24660 non-null  float64\n",
      " 22  Diab.lonFALSE        24660 non-null  float64\n",
      " 23  Diab.lonTRUE         24660 non-null  float64\n",
      " 24  FA.lonFALSE          24660 non-null  float64\n",
      " 25  FA.lonTRUE           24660 non-null  float64\n",
      " 26  GERD.lonFALSE        24660 non-null  float64\n",
      " 27  GERD.lonTRUE         24660 non-null  float64\n",
      " 28  HTA.lonFALSE         24660 non-null  float64\n",
      " 29  HTA.lonTRUE          24660 non-null  float64\n",
      " 30  OBST.lonFALSE        24660 non-null  float64\n",
      " 31  OBST.lonTRUE         24660 non-null  float64\n",
      " 32  APNEA.lonFALSE       24660 non-null  float64\n",
      " 33  APNEA.lonTRUE        24660 non-null  float64\n",
      "dtypes: float64(34)\n",
      "memory usage: 6.4 MB\n",
      "None\n",
      "      s.age  sex_at_birthFemale  sex_at_birthMale  race3White_EA  race3Asian  \\\n",
      "0 -1.790205            0.547174         -0.547174       1.293175   -0.081066   \n",
      "1 -1.128129            0.547174         -0.547174       1.293175   -0.081066   \n",
      "2 -0.022462           -1.827572          1.827572       1.293175   -0.081066   \n",
      "3 -0.293913            0.547174         -0.547174      -0.773291   -0.081066   \n",
      "4  0.050366            0.547174         -0.547174      -0.773291   -0.081066   \n",
      "\n",
      "   race3Black_AA   race3HL  race3MENA  hcType1Private  hcType1Public  ...  \\\n",
      "0      -0.831968 -0.511318  -0.054489        1.934033      -1.934033  ...   \n",
      "1      -0.831968 -0.511318  -0.054489        1.934033      -1.934033  ...   \n",
      "2      -0.831968 -0.511318  -0.054489       -0.517054       0.517054  ...   \n",
      "3      -0.831968  1.955732  -0.054489       -0.517054       0.517054  ...   \n",
      "4      -0.831968  1.955732  -0.054489       -0.517054       0.517054  ...   \n",
      "\n",
      "   FA.lonFALSE  FA.lonTRUE  GERD.lonFALSE  GERD.lonTRUE  HTA.lonFALSE  \\\n",
      "0     0.178323   -0.178323       1.102197     -1.102197      1.291497   \n",
      "1     0.178323   -0.178323       1.102197     -1.102197      1.291497   \n",
      "2     0.178323   -0.178323       1.102197     -1.102197      1.291497   \n",
      "3     0.178323   -0.178323       1.102197     -1.102197      1.291497   \n",
      "4     0.178323   -0.178323       1.102197     -1.102197     -0.774295   \n",
      "\n",
      "   HTA.lonTRUE  OBST.lonFALSE  OBST.lonTRUE  APNEA.lonFALSE  APNEA.lonTRUE  \n",
      "0    -1.291497       0.908468     -0.908468         0.61867       -0.61867  \n",
      "1    -1.291497       0.908468     -0.908468         0.61867       -0.61867  \n",
      "2    -1.291497       0.908468     -0.908468         0.61867       -0.61867  \n",
      "3    -1.291497       0.908468     -0.908468         0.61867       -0.61867  \n",
      "4     0.774295       0.908468     -0.908468         0.61867       -0.61867  \n",
      "\n",
      "[5 rows x 34 columns]\n"
     ]
    }
   ],
   "source": [
    "y_val = holdout.readmission30dNum\n",
    "print(y_val.info())\n",
    "x_val = holdout.copy()\n",
    "print(x_val.info())\n",
    "\n",
    "x_val.drop(['id', 'race3', 'readmission30dNum'], axis=1, inplace=True)\n",
    "\n",
    "x_val = pd.DataFrame(scaler.fit_transform(x_val), columns=x_val.columns)\n",
    "print(x_val.info())\n",
    "print(x_val.head())"
   ]
  },
  {
   "cell_type": "code",
   "execution_count": 9,
   "id": "8e307f56-513d-4daf-8a0d-f696db0ead26",
   "metadata": {},
   "outputs": [],
   "source": [
    "#x_train, x_val, y_train, y_val = train_test_split(X, y, test_size=0.33, random_state=42)"
   ]
  },
  {
   "cell_type": "markdown",
   "id": "83a261f8-2090-4730-b1c7-9ecfd268ea9c",
   "metadata": {},
   "source": [
    "## Logistic regression"
   ]
  },
  {
   "cell_type": "code",
   "execution_count": 10,
   "id": "b9c194fa-e1a7-4d22-92c0-2ed28b50b450",
   "metadata": {},
   "outputs": [],
   "source": [
    "from sklearn.metrics import accuracy_score, classification_report, precision_score, recall_score \n",
    "from sklearn.metrics import confusion_matrix, precision_recall_curve, roc_curve, auc, log_loss\n",
    "from sklearn.linear_model import LogisticRegression"
   ]
  },
  {
   "cell_type": "code",
   "execution_count": 11,
   "id": "a2d0b9aa-7d9d-4dba-ae10-2f18d6b9d75d",
   "metadata": {},
   "outputs": [
    {
     "name": "stdout",
     "output_type": "stream",
     "text": [
      "Train/Test split results:\n",
      "LogisticRegression accuracy is 0.783\n",
      "LogisticRegression log_loss is 0.499\n",
      "LogisticRegression auc is 0.650\n"
     ]
    },
    {
     "name": "stderr",
     "output_type": "stream",
     "text": [
      "/var/folders/p2/kkyd0gbx0s5_9mbwn8jt2msc0000gq/T/ipykernel_65367/1680362613.py:17: UserWarning: color is redundantly defined by the 'color' keyword argument and the fmt string \"k--\" (-> color='k'). The keyword argument will take precedence.\n",
      "  plt.plot([0,fpr[idx]], [tpr[idx],tpr[idx]], 'k--', color='blue')\n",
      "/var/folders/p2/kkyd0gbx0s5_9mbwn8jt2msc0000gq/T/ipykernel_65367/1680362613.py:18: UserWarning: color is redundantly defined by the 'color' keyword argument and the fmt string \"k--\" (-> color='k'). The keyword argument will take precedence.\n",
      "  plt.plot([fpr[idx],fpr[idx]], [0,tpr[idx]], 'k--', color='blue')\n"
     ]
    },
    {
     "data": {
      "image/png": "[encoded data removed]",
      "text/plain": [
       "<Figure size 640x480 with 1 Axes>"
      ]
     },
     "metadata": {},
     "output_type": "display_data"
    },
    {
     "name": "stdout",
     "output_type": "stream",
     "text": [
      "Using a threshold of 0.112 guarantees a sensitivity of 0.950 and a specificity of 0.124, i.e. a false positive rate of 87.58%.\n"
     ]
    }
   ],
   "source": [
    "# check classification scores of logistic regression\n",
    "logreg = LogisticRegression()\n",
    "logreg.fit(x_train, y_train)\n",
    "y_pred = logreg.predict(x_val)\n",
    "y_pred_proba = logreg.predict_proba(x_val)[:, 1]\n",
    "[fpr, tpr, thr] = roc_curve(y_val, y_pred_proba)\n",
    "print('Train/Test split results:')\n",
    "print(logreg.__class__.__name__+\" accuracy is %2.3f\" % accuracy_score(y_val, y_pred))\n",
    "print(logreg.__class__.__name__+\" log_loss is %2.3f\" % log_loss(y_val, y_pred_proba))\n",
    "print(logreg.__class__.__name__+\" auc is %2.3f\" % auc(fpr, tpr))\n",
    "\n",
    "idx = np.min(np.where(tpr > 0.95)) # index of the first threshold for which the sensibility > 0.95\n",
    "\n",
    "plt.figure()\n",
    "plt.plot(fpr, tpr, color='coral', label='ROC curve (area = %0.3f)' % auc(fpr, tpr))\n",
    "plt.plot([0, 1], [0, 1], 'k--')\n",
    "plt.plot([0,fpr[idx]], [tpr[idx],tpr[idx]], 'k--', color='blue')\n",
    "plt.plot([fpr[idx],fpr[idx]], [0,tpr[idx]], 'k--', color='blue')\n",
    "plt.xlim([0.0, 1.0])\n",
    "plt.ylim([0.0, 1.05])\n",
    "plt.xlabel('False Positive Rate (1 - specificity)', fontsize=14)\n",
    "plt.ylabel('True Positive Rate (recall)', fontsize=14)\n",
    "plt.title('Receiver operating characteristic (ROC) curve')\n",
    "plt.legend(loc=\"lower right\")\n",
    "plt.show()\n",
    "\n",
    "print(\"Using a threshold of %.3f \" % thr[idx] + \"guarantees a sensitivity of %.3f \" % tpr[idx] +  \n",
    "      \"and a specificity of %.3f\" % (1-fpr[idx]) + \n",
    "      \", i.e. a false positive rate of %.2f%%.\" % (np.array(fpr[idx])*100))"
   ]
  },
  {
   "cell_type": "markdown",
   "id": "aa5259e2-9b8a-4d7f-bd38-98a8ceff89df",
   "metadata": {},
   "source": [
    "## Random forest"
   ]
  },
  {
   "cell_type": "code",
   "execution_count": 12,
   "id": "969062ef-c9cb-4205-88f1-065b0209fbf6",
   "metadata": {},
   "outputs": [
    {
     "name": "stdout",
     "output_type": "stream",
     "text": [
      "RandomForestClassifier validation accuracy 0.7826439578264396\n",
      "Execution time:  0.8330729007720947 secs\n",
      "Prediction time: 0.05206894874572754 secs\n"
     ]
    }
   ],
   "source": [
    "start_time = time.time()\n",
    "model_rf = RandomForestClassifier(n_estimators = 100,max_depth=3)\n",
    "model_rf = model_rf.fit(x_train, y_train)\n",
    "start_pred_time = time.time()\n",
    "predictions = model_rf.predict(x_val)\n",
    "end_pred_time = time.time()\n",
    "rf_val_acc = accuracy_score(y_val, predictions)\n",
    "print('RandomForestClassifier validation accuracy', rf_val_acc)\n",
    "\n",
    "end_time = time.time()\n",
    "print(\"Execution time: \", end_time - start_time, \"secs\")\n",
    "print(\"Prediction time:\", end_pred_time - start_pred_time, \"secs\")"
   ]
  },
  {
   "cell_type": "markdown",
   "id": "f563c5af-34b1-4057-a21a-409a63930a76",
   "metadata": {},
   "source": [
    "## XGBoost"
   ]
  },
  {
   "cell_type": "code",
   "execution_count": 13,
   "id": "9282ca6f-aafd-4bf3-8bfd-11b6130a3854",
   "metadata": {},
   "outputs": [
    {
     "name": "stdout",
     "output_type": "stream",
     "text": [
      "3.601503759398496\n",
      "[1.         2.30075188 3.60150376]\n"
     ]
    }
   ],
   "source": [
    "x_train_xgb=x_train.values\n",
    "x_val_xgb=x_val.values\n",
    "y_train_xgb=y_train.values\n",
    "y_val_xgb=y_val.values\n",
    "negative_cases = sum(y_train == 0)\n",
    "postive_cases = sum(y_train == 1)\n",
    "ratio_posneg=negative_cases/postive_cases\n",
    "print(ratio_posneg)\n",
    "print(np.linspace(start=1, stop=ratio_posneg, num=3))"
   ]
  },
  {
   "cell_type": "code",
   "execution_count": 14,
   "id": "9da9c454-ca19-4474-b793-d5018fc519d0",
   "metadata": {},
   "outputs": [
    {
     "name": "stdout",
     "output_type": "stream",
     "text": [
      "[[12100  7200]\n",
      " [ 2205  3155]]\n",
      "XGBoost validation accuracy 0.6186131386861314\n",
      "Execution time:  0.20307397842407227 secs\n",
      "Prediction time: 0.05206894874572754 secs\n"
     ]
    }
   ],
   "source": [
    "start_time = time.time()\n",
    "model_xgb = xgb.XGBClassifier(n_estimators=1000, learning_rate=0.05,early_stopping_rounds=10,objective = \"binary:logistic\",\n",
    "                             scale_pos_weight=ratio_posneg)\n",
    "# Add silent=True to avoid printing out updates with each cycle\n",
    "model_xgb.fit(x_train_xgb, y_train_xgb, verbose=False,\n",
    "             eval_set=[(x_val_xgb, y_val_xgb)])\n",
    "from sklearn.metrics import confusion_matrix, mean_squared_error\n",
    "predictions = model_xgb.predict(x_val_xgb)\n",
    "print(confusion_matrix(y_val_xgb, predictions))\n",
    "print('XGBoost validation accuracy', accuracy_score(y_val_xgb, predictions))\n",
    "\n",
    "end_time = time.time()\n",
    "print(\"Execution time: \", end_time - start_time, \"secs\")\n",
    "print(\"Prediction time:\", end_pred_time - start_pred_time, \"secs\")"
   ]
  },
  {
   "cell_type": "code",
   "execution_count": 15,
   "id": "151a6fcc-91a0-41af-96bc-8a79b3653688",
   "metadata": {},
   "outputs": [
    {
     "name": "stdout",
     "output_type": "stream",
     "text": [
      "Parameter optimization\n",
      "Fitting 3 folds for each of 81 candidates, totalling 243 fits\n",
      "-0.13710927963256836\n",
      "{'learning_rate': 0.01, 'max_depth': 4, 'n_estimators': 50, 'scale_pos_weight': 1.0}\n"
     ]
    }
   ],
   "source": [
    "from sklearn.model_selection import GridSearchCV\n",
    "\n",
    "print(\"Parameter optimization\")\n",
    "xgb_model2 = xgb.XGBRegressor(n_jobs=1)\n",
    "clf = GridSearchCV(\n",
    "    xgb_model2,\n",
    "    {\"learning_rate\":[0.01,0.05,0.1],\n",
    "     \"max_depth\": [2, 3, 4],\n",
    "     \"n_estimators\": [50, 100,1000],\n",
    "     \"scale_pos_weight\":np.linspace(start=1, stop=ratio_posneg, num=3)},\n",
    "    verbose=1,\n",
    "    n_jobs=1,\n",
    "    cv=3,\n",
    ")\n",
    "clf.fit(x_train_xgb, y_train_xgb, verbose=False,\n",
    "             eval_set=[(x_val_xgb, y_val_xgb)])\n",
    "print(clf.best_score_)\n",
    "print(clf.best_params_)"
   ]
  },
  {
   "cell_type": "code",
   "execution_count": 16,
   "id": "6fc80f16-dbb4-40ca-abad-5b6054408bd5",
   "metadata": {},
   "outputs": [
    {
     "name": "stdout",
     "output_type": "stream",
     "text": [
      "XGBoost validation accuracy 0.6232360097323602\n",
      "Execution time:  0.17010974884033203 secs\n",
      "Prediction time: 0.05206894874572754 secs\n"
     ]
    },
    {
     "data": {
      "image/png": "[encoded data removed]",
      "text/plain": [
       "<Figure size 640x480 with 2 Axes>"
      ]
     },
     "metadata": {},
     "output_type": "display_data"
    }
   ],
   "source": [
    "start_time = time.time()\n",
    "model_xgb = xgb.XGBClassifier(n_estimators=50, learning_rate=0.01,max_depth=4,\n",
    "                              early_stopping_rounds=10,\n",
    "                              objective = \"binary:logistic\",\n",
    "                              scale_pos_weight=ratio_posneg)\n",
    "# Add silent=True to avoid printing out updates with each cycle\n",
    "model_xgb.fit(x_train_xgb, y_train_xgb, verbose=False,\n",
    "             eval_set=[(x_val_xgb, y_val_xgb)])\n",
    "from sklearn.metrics import confusion_matrix, mean_squared_error\n",
    "predictions = model_xgb.predict(x_val_xgb)\n",
    "#print(confusion_matrix(y_val_xgb, predictions))\n",
    "cm=confusion_matrix(y_val_xgb, predictions)\n",
    "disp = ConfusionMatrixDisplay(confusion_matrix=cm)\n",
    "disp.plot()\n",
    "print('XGBoost validation accuracy', accuracy_score(y_val_xgb, predictions))\n",
    "end_time = time.time()\n",
    "print(\"Execution time: \", end_time - start_time, \"secs\")\n",
    "print(\"Prediction time:\", end_pred_time - start_pred_time, \"secs\")"
   ]
  },
  {
   "cell_type": "markdown",
   "id": "3af1a81e-89e8-44ea-bda3-d9b3292b6d05",
   "metadata": {},
   "source": [
    "## DL: TapFPN"
   ]
  },
  {
   "cell_type": "code",
   "execution_count": null,
   "id": "42c79430-cf5d-4f8a-8990-fdb19388f2f3",
   "metadata": {},
   "outputs": [],
   "source": [
    "start_time = time.time()\n",
    "model_dl = TabPFNClassifier(device=\"cpu\")\n",
    "model_dl = model_dl.fit(x_train, y_train,overwrite_warning=True)\n",
    "start_pred_time = time.time()\n",
    "predictions = model_dl.predict(x_val.to_numpy())\n",
    "end_pred_time = time.time()\n",
    "tpfn_val_acc = accuracy_score(y_val, predictions)\n",
    "\n",
    "print('TabPFNClassifier validation accuracy', tpfn_val_acc)\n",
    "\n",
    "end_time = time.time()\n",
    "print(\"Execution time: \", end_time - start_time, \"secs\")\n",
    "print(\"Prediction time:\", end_pred_time - start_pred_time, \"secs\")"
   ]
  },
  {
   "cell_type": "markdown",
   "id": "f17defac-4647-421c-9c41-37245ae1b1d8",
   "metadata": {},
   "source": [
    "## Conclusions\n",
    "\n",
    "Very similar results for all three classifiers. It might be well suited to test on the AoU dataset and more evident imbalanced datasets."
   ]
  },
  {
   "cell_type": "markdown",
   "id": "ab940ca2-500d-497a-a905-7f0dc677c76a",
   "metadata": {},
   "source": [
    "## References\n",
    "\n",
    "[1] Léo Grinsztajn, Edouard Oyallon, Gaël Varoquaux. Why do tree-based models still outperform deep learning on tabular data? https://arxiv.org/abs/2207.08815\n",
    "\n",
    "[2] Noah Hollmann, Samuel Müller, Katharina Eggensperger, Frank Hutter. TabPFN: A Transformer That Solves Small Tabular Classification Problems in a Second. ICLR 2023. https://arxiv.org/abs/2207.01848"
   ]
  }
 ],
 "metadata": {
  "kernelspec": {
   "display_name": "Python 3 (ipykernel)",
   "language": "python",
   "name": "python3"
  },
  "language_info": {
   "codemirror_mode": {
    "name": "ipython",
    "version": 3
   },
   "file_extension": ".py",
   "mimetype": "text/x-python",
   "name": "python",
   "nbconvert_exporter": "python",
   "pygments_lexer": "ipython3",
   "version": "3.12.4"
  }
 },
 "nbformat": 4,
 "nbformat_minor": 5
}
